{
 "cells": [
  {
   "cell_type": "code",
   "execution_count": 79,
   "metadata": {},
   "outputs": [
    {
     "name": "stdout",
     "output_type": "stream",
     "text": [
      "Do you want to Encode or Decode?\n",
      "encode\n",
      "Enter the text you want to encode.\n",
      "this really won't work nowadays :)\n",
      "Provide the key by which you wish to encode.\n",
      "15\n"
     ]
    },
    {
     "data": {
      "text/plain": [
       "\"IWXH GTPAAN LDC'I LDGZ CDLPSPNH :)\""
      ]
     },
     "execution_count": 79,
     "metadata": {},
     "output_type": "execute_result"
    }
   ],
   "source": [
    "\"\"\"\n",
    "Caesar Cipher\n",
    "    \n",
    "This cipher rotates the letters of the alphabet (A to Z).\n",
    "The encoding replaces each letter with the 1st to 25th next\n",
    "letter in the alphabet (wrapping Z to A). The key is an\n",
    "integer from 1 to 25So key 2 encrypts \"HI\" to \"JK\", but\n",
    "key 20 encrypts \"HI\" to \"BC\". This simple \"monoalphabetic\n",
    "substitution cipher\" provides almost no security, because\n",
    "an attacker who has the encoded message can either use\n",
    "frequency analysis to guess the key, or just try all 25 keys.\n",
    "\n",
    "\"\"\"\n",
    "\n",
    "alphabet = 'abcdefghijklmnopqrstuvwxyz'\n",
    "\n",
    "def cipher():\n",
    "    \n",
    "    choice = input(\"Do you want to Encode or Decode?\\n\")\n",
    "    \n",
    "    ### Encoding ###\n",
    "    \n",
    "    if choice.lower() == 'encode':\n",
    "        \n",
    "        text = input('Enter the text you want to encode.\\n')\n",
    "        key = int(input('Provide the key by which you wish to encode.\\n'))\n",
    "        \n",
    "        encoded_string = 'abcdefghijklmnopqrstuvwxyz' * 2 #Needed twice so that key cannot exceed\n",
    "        result = ''\n",
    "        \n",
    "        for char in text:\n",
    "            if char.lower() in alphabet:\n",
    "                index = encoded_string.index(char.lower())\n",
    "                result += encoded_string[index+key]\n",
    "            else:\n",
    "                result += char.lower() \n",
    "        \n",
    "        return result.upper()\n",
    "    \n",
    "    ### Decoding ###\n",
    "    \n",
    "    elif choice.lower() == 'decode':\n",
    "        \n",
    "        text = input('Enter the text you want to decode.\\n')\n",
    "        key = int(input('Provide the key by which you wish to decode.\\n'))\n",
    "        \n",
    "        decoded_string = 'zyxwvutsrqponmlkjihgfedcba' * 2 #In reverse because of difficulty with substraction\n",
    "        result = ''\n",
    "        \n",
    "        for char in text:\n",
    "            if char.lower() in alphabet:\n",
    "                index = decoded_string.index(char.lower())\n",
    "                result += decoded_string[index+key]\n",
    "            else:\n",
    "                result += char.lower() \n",
    "        \n",
    "        return result.upper()\n",
    "    \n",
    "cipher()"
   ]
  },
  {
   "cell_type": "code",
   "execution_count": 80,
   "metadata": {},
   "outputs": [
    {
     "name": "stdout",
     "output_type": "stream",
     "text": [
      "Do you want to Encode or Decode?\n",
      "decode\n",
      "Enter the text you want to decode.\n",
      "IWXH GTPAAN LDC'I LDGZ CDLPSPNH\n",
      "Provide the key by which you wish to decode.\n",
      "15\n"
     ]
    },
    {
     "data": {
      "text/plain": [
       "\"THIS REALLY WON'T WORK NOWADAYS\""
      ]
     },
     "execution_count": 80,
     "metadata": {},
     "output_type": "execute_result"
    }
   ],
   "source": [
    "cipher()"
   ]
  },
  {
   "cell_type": "code",
   "execution_count": null,
   "metadata": {},
   "outputs": [],
   "source": []
  }
 ],
 "metadata": {
  "kernelspec": {
   "display_name": "Python 3",
   "language": "python",
   "name": "python3"
  },
  "language_info": {
   "codemirror_mode": {
    "name": "ipython",
    "version": 3
   },
   "file_extension": ".py",
   "mimetype": "text/x-python",
   "name": "python",
   "nbconvert_exporter": "python",
   "pygments_lexer": "ipython3",
   "version": "3.6.5"
  }
 },
 "nbformat": 4,
 "nbformat_minor": 2
}
