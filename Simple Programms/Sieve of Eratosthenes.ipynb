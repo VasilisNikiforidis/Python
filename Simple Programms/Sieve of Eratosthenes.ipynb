{
 "cells": [
  {
   "cell_type": "code",
   "execution_count": 28,
   "metadata": {},
   "outputs": [],
   "source": [
    "\"\"\"\n",
    "The Sieve of Eratosthenes\n",
    "\n",
    "Enter a number (N) and the program will generate all prime numbers up to that number.\n",
    "\"\"\"\n",
    "\n",
    "def sieve():\n",
    "    \n",
    "    print(\"Let's find some prime numbers!\\n\")\n",
    "    \n",
    "    N = int(input(\"Enter the number up to which you want to find all prime numbers.\\n\"))\n",
    "    \n",
    "    numbers = [j for j in range(2,N+1)]\n",
    "    \n",
    "    for i in numbers:\n",
    "        multiples = 2*i\n",
    "        while multiples <= N:\n",
    "            if multiples in numbers:\n",
    "                numbers.remove(multiples)\n",
    "                multiples += i\n",
    "            else:\n",
    "                multiples +=i\n",
    "                continue\n",
    "        \n",
    "    print(f\"There are {len(numbers)} prime numbers up to {N} and here they are!\")\n",
    "    return numbers"
   ]
  },
  {
   "cell_type": "code",
   "execution_count": 34,
   "metadata": {
    "scrolled": false
   },
   "outputs": [
    {
     "name": "stdout",
     "output_type": "stream",
     "text": [
      "Let's find some prime numbers!\n",
      "\n",
      "Enter the number up to which you want to find all prime numbers.\n",
      "100000\n",
      "There are 9592 prime numbers up to 100000 and here they are!\n",
      "96.59857082366943\n"
     ]
    }
   ],
   "source": [
    "import time\n",
    "start = time.time()\n",
    "sieve()\n",
    "end = time.time()\n",
    "print(end-start)\n",
    "#The sieve of Eratosthenes is the optimal way of finding prime numbers up to 10.000.\n",
    "#This calculation up to 100.000 will take some time."
   ]
  },
  {
   "cell_type": "code",
   "execution_count": 35,
   "metadata": {},
   "outputs": [
    {
     "name": "stdout",
     "output_type": "stream",
     "text": [
      "Let's find some prime numbers!\n",
      "\n",
      "Enter the number up to which you want to find all prime numbers.\n",
      "100\n",
      "There are 25 prime numbers up to 100 and here they are!\n"
     ]
    },
    {
     "data": {
      "text/plain": [
       "[2,\n",
       " 3,\n",
       " 5,\n",
       " 7,\n",
       " 11,\n",
       " 13,\n",
       " 17,\n",
       " 19,\n",
       " 23,\n",
       " 29,\n",
       " 31,\n",
       " 37,\n",
       " 41,\n",
       " 43,\n",
       " 47,\n",
       " 53,\n",
       " 59,\n",
       " 61,\n",
       " 67,\n",
       " 71,\n",
       " 73,\n",
       " 79,\n",
       " 83,\n",
       " 89,\n",
       " 97]"
      ]
     },
     "execution_count": 35,
     "metadata": {},
     "output_type": "execute_result"
    }
   ],
   "source": [
    "sieve()"
   ]
  },
  {
   "cell_type": "code",
   "execution_count": null,
   "metadata": {},
   "outputs": [],
   "source": []
  }
 ],
 "metadata": {
  "kernelspec": {
   "display_name": "Python 3",
   "language": "python",
   "name": "python3"
  },
  "language_info": {
   "codemirror_mode": {
    "name": "ipython",
    "version": 3
   },
   "file_extension": ".py",
   "mimetype": "text/x-python",
   "name": "python",
   "nbconvert_exporter": "python",
   "pygments_lexer": "ipython3",
   "version": "3.6.5"
  }
 },
 "nbformat": 4,
 "nbformat_minor": 2
}
