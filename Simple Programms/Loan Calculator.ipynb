{
 "cells": [
  {
   "cell_type": "code",
   "execution_count": 15,
   "metadata": {},
   "outputs": [
    {
     "name": "stdout",
     "output_type": "stream",
     "text": [
      "How many loans do you want to calculate?\n",
      "2\n",
      "\n",
      "Calculation of loan number 1\n",
      "Specify the amount of your loan.\n",
      "100000\n",
      "How much is the annual percentage interest rate?\n",
      "3\n",
      "How many years does the loan span?\n",
      "10\n",
      "What is the maximum ammount you can pay per month?\n",
      "1000\n",
      "Will there be any downpayment? If not type 0, else type the amount.\n",
      "0\n",
      "Your loan is 100000.0.\n",
      "You deposited a downpayment of 0.0.\n",
      "The monthly interest rate for your loan is 0.0025 or 0.25%.\n",
      "The loan requires 120 payments at the amount of 965.61 each.\n",
      "You will have to pay a total of 15872.89 for interest.\n",
      "You can afford the loan!\n",
      "\n",
      "Calculation of loan number 2\n",
      "Specify the amount of your loan.\n",
      "5000\n",
      "How much is the annual percentage interest rate?\n",
      "5\n",
      "How many years does the loan span?\n",
      "5\n",
      "What is the maximum ammount you can pay per month?\n",
      "30\n",
      "Will there be any downpayment? If not type 0, else type the amount.\n",
      "300\n",
      "Your loan is 5000.0.\n",
      "You deposited a downpayment of 300.0.\n",
      "The monthly interest rate for your loan is 0.0042 or 0.42%.\n",
      "The loan requires 60 payments at the amount of 88.69 each.\n",
      "You will have to pay a total of 621.69 for interest.\n",
      "I am very sorry but you cannot afford the loan!\n"
     ]
    }
   ],
   "source": [
    "\"\"\"\n",
    "                Mortgage Calculator\n",
    "                \n",
    "Calculate the monthly payments of a fixed term mortgage \n",
    "over given Nth terms at a given interest rate. Also figure \n",
    "out how long it will take the user to pay back the loan.\n",
    "\"\"\"\n",
    "from IPython.display import clear_output\n",
    "def loan():\n",
    "    \n",
    "    p = float(input(\"Specify the amount of your loan.\\n\"))\n",
    "    apr = float(input(\"How much is the annual percentage interest rate?\\n\"))\n",
    "    years = int(input(\"How many years does the loan span?\\n\"))\n",
    "    max_pay = float(input(\"What is the maximum ammount you can pay per month?\\n\"))\n",
    "    init_pay = float(input(\"Will there be any downpayment? If not type 0, else type the amount.\\n\"))\n",
    "    \n",
    "    \n",
    "    payments = years * 12\n",
    "    mpr = apr / 100 / 12 #Monthly interest rate\n",
    "    \n",
    "    monthly_pay = (p-init_pay)*(mpr*((1+mpr)**payments)/((1+mpr)**payments - 1))\n",
    "    interest = monthly_pay*payments - (p-init_pay)\n",
    "    \n",
    "    print(f\"Your loan is {p}.\")\n",
    "    print(f\"You deposited a downpayment of {init_pay}.\")\n",
    "    print(f\"The monthly interest rate for your loan is {mpr:.4f} or {mpr*100:.2f}%.\")\n",
    "    print(f\"The loan requires {payments} payments at the amount of {monthly_pay:.2f} each.\")\n",
    "    print(f\"You will have to pay a total of {interest:.2f} for interest.\")\n",
    "        \n",
    "    if max_pay > monthly_pay:\n",
    "        print(\"You can afford the loan!\")\n",
    "    else:\n",
    "        print(\"I am very sorry but you cannot afford the loan!\")\n",
    "        \n",
    "\n",
    "calc = int(input(\"How many loans do you want to calculate?\\n\"))        \n",
    "\n",
    "   \n",
    "for i in range(1,calc+1):\n",
    "    print(f\"\\nCalculation of loan number {i}\")\n",
    "    loan()    \n",
    "    "
   ]
  },
  {
   "cell_type": "code",
   "execution_count": null,
   "metadata": {},
   "outputs": [],
   "source": []
  }
 ],
 "metadata": {
  "kernelspec": {
   "display_name": "Python 3",
   "language": "python",
   "name": "python3"
  },
  "language_info": {
   "codemirror_mode": {
    "name": "ipython",
    "version": 3
   },
   "file_extension": ".py",
   "mimetype": "text/x-python",
   "name": "python",
   "nbconvert_exporter": "python",
   "pygments_lexer": "ipython3",
   "version": "3.6.5"
  }
 },
 "nbformat": 4,
 "nbformat_minor": 2
}
